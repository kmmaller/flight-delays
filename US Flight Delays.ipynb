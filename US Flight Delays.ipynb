{
 "cells": [
  {
   "cell_type": "markdown",
   "metadata": {},
   "source": [
    "# Can we predict when flights will be cancelled?\n",
    "data from https://www.kaggle.com/usdot/flight-delays"
   ]
  },
  {
   "cell_type": "code",
   "execution_count": 560,
   "metadata": {},
   "outputs": [],
   "source": [
    "# Imports\n",
    "\n",
    "# local settings\n",
    "import settings\n",
    "import os\n",
    "# pandas\n",
    "import pandas as pd\n",
    "\n",
    "# visual aids\n",
    "import numpy as np\n",
    "import matplotlib.pyplot as plt\n",
    "import seaborn as sns\n",
    "sns.set_style('whitegrid')\n",
    "%matplotlib inline\n",
    "\n",
    "# machine learning\n",
    "from sklearn.model_selection import train_test_split\n",
    "from sklearn import preprocessing\n",
    "from sklearn.linear_model import LogisticRegression\n"
   ]
  },
  {
   "cell_type": "markdown",
   "metadata": {},
   "source": [
    "## Load and preview flight data "
   ]
  },
  {
   "cell_type": "code",
   "execution_count": 561,
   "metadata": {},
   "outputs": [
    {
     "data": {
      "text/html": [
       "<div>\n",
       "<table border=\"1\" class=\"dataframe\">\n",
       "  <thead>\n",
       "    <tr style=\"text-align: right;\">\n",
       "      <th></th>\n",
       "      <th>IATA_CODE</th>\n",
       "      <th>AIRLINE</th>\n",
       "    </tr>\n",
       "  </thead>\n",
       "  <tbody>\n",
       "    <tr>\n",
       "      <th>0</th>\n",
       "      <td>UA</td>\n",
       "      <td>United Air Lines Inc.</td>\n",
       "    </tr>\n",
       "    <tr>\n",
       "      <th>1</th>\n",
       "      <td>AA</td>\n",
       "      <td>American Airlines Inc.</td>\n",
       "    </tr>\n",
       "    <tr>\n",
       "      <th>2</th>\n",
       "      <td>US</td>\n",
       "      <td>US Airways Inc.</td>\n",
       "    </tr>\n",
       "    <tr>\n",
       "      <th>3</th>\n",
       "      <td>F9</td>\n",
       "      <td>Frontier Airlines Inc.</td>\n",
       "    </tr>\n",
       "    <tr>\n",
       "      <th>4</th>\n",
       "      <td>B6</td>\n",
       "      <td>JetBlue Airways</td>\n",
       "    </tr>\n",
       "  </tbody>\n",
       "</table>\n",
       "</div>"
      ],
      "text/plain": [
       "  IATA_CODE                 AIRLINE\n",
       "0        UA   United Air Lines Inc.\n",
       "1        AA  American Airlines Inc.\n",
       "2        US         US Airways Inc.\n",
       "3        F9  Frontier Airlines Inc.\n",
       "4        B6         JetBlue Airways"
      ]
     },
     "execution_count": 561,
     "metadata": {},
     "output_type": "execute_result"
    }
   ],
   "source": [
    "# we have three csv files to open as a DataFrame and combine if necessary\n",
    "df1 = pd.read_csv(os.path.join(settings.DATA_DIR, \"airlines.csv\"))\n",
    "df1.head()"
   ]
  },
  {
   "cell_type": "code",
   "execution_count": 562,
   "metadata": {},
   "outputs": [
    {
     "data": {
      "text/html": [
       "<div>\n",
       "<table border=\"1\" class=\"dataframe\">\n",
       "  <thead>\n",
       "    <tr style=\"text-align: right;\">\n",
       "      <th></th>\n",
       "      <th>IATA_CODE</th>\n",
       "      <th>AIRPORT</th>\n",
       "      <th>CITY</th>\n",
       "      <th>STATE</th>\n",
       "      <th>COUNTRY</th>\n",
       "      <th>LATITUDE</th>\n",
       "      <th>LONGITUDE</th>\n",
       "    </tr>\n",
       "  </thead>\n",
       "  <tbody>\n",
       "    <tr>\n",
       "      <th>0</th>\n",
       "      <td>ABE</td>\n",
       "      <td>Lehigh Valley International Airport</td>\n",
       "      <td>Allentown</td>\n",
       "      <td>PA</td>\n",
       "      <td>USA</td>\n",
       "      <td>40.65236</td>\n",
       "      <td>-75.44040</td>\n",
       "    </tr>\n",
       "    <tr>\n",
       "      <th>1</th>\n",
       "      <td>ABI</td>\n",
       "      <td>Abilene Regional Airport</td>\n",
       "      <td>Abilene</td>\n",
       "      <td>TX</td>\n",
       "      <td>USA</td>\n",
       "      <td>32.41132</td>\n",
       "      <td>-99.68190</td>\n",
       "    </tr>\n",
       "    <tr>\n",
       "      <th>2</th>\n",
       "      <td>ABQ</td>\n",
       "      <td>Albuquerque International Sunport</td>\n",
       "      <td>Albuquerque</td>\n",
       "      <td>NM</td>\n",
       "      <td>USA</td>\n",
       "      <td>35.04022</td>\n",
       "      <td>-106.60919</td>\n",
       "    </tr>\n",
       "    <tr>\n",
       "      <th>3</th>\n",
       "      <td>ABR</td>\n",
       "      <td>Aberdeen Regional Airport</td>\n",
       "      <td>Aberdeen</td>\n",
       "      <td>SD</td>\n",
       "      <td>USA</td>\n",
       "      <td>45.44906</td>\n",
       "      <td>-98.42183</td>\n",
       "    </tr>\n",
       "    <tr>\n",
       "      <th>4</th>\n",
       "      <td>ABY</td>\n",
       "      <td>Southwest Georgia Regional Airport</td>\n",
       "      <td>Albany</td>\n",
       "      <td>GA</td>\n",
       "      <td>USA</td>\n",
       "      <td>31.53552</td>\n",
       "      <td>-84.19447</td>\n",
       "    </tr>\n",
       "  </tbody>\n",
       "</table>\n",
       "</div>"
      ],
      "text/plain": [
       "  IATA_CODE                              AIRPORT         CITY STATE COUNTRY  \\\n",
       "0       ABE  Lehigh Valley International Airport    Allentown    PA     USA   \n",
       "1       ABI             Abilene Regional Airport      Abilene    TX     USA   \n",
       "2       ABQ    Albuquerque International Sunport  Albuquerque    NM     USA   \n",
       "3       ABR            Aberdeen Regional Airport     Aberdeen    SD     USA   \n",
       "4       ABY   Southwest Georgia Regional Airport       Albany    GA     USA   \n",
       "\n",
       "   LATITUDE  LONGITUDE  \n",
       "0  40.65236  -75.44040  \n",
       "1  32.41132  -99.68190  \n",
       "2  35.04022 -106.60919  \n",
       "3  45.44906  -98.42183  \n",
       "4  31.53552  -84.19447  "
      ]
     },
     "execution_count": 562,
     "metadata": {},
     "output_type": "execute_result"
    }
   ],
   "source": [
    "df2 = pd.read_csv(os.path.join(settings.DATA_DIR,\"airports.csv\"))\n",
    "df2.head()"
   ]
  },
  {
   "cell_type": "code",
   "execution_count": 497,
   "metadata": {},
   "outputs": [
    {
     "name": "stderr",
     "output_type": "stream",
     "text": [
      "/Users/test/anaconda/lib/python3.5/site-packages/IPython/core/interactiveshell.py:2683: DtypeWarning: Columns (7,8) have mixed types. Specify dtype option on import or set low_memory=False.\n",
      "  interactivity=interactivity, compiler=compiler, result=result)\n"
     ]
    },
    {
     "data": {
      "text/html": [
       "<div>\n",
       "<table border=\"1\" class=\"dataframe\">\n",
       "  <thead>\n",
       "    <tr style=\"text-align: right;\">\n",
       "      <th></th>\n",
       "      <th>YEAR</th>\n",
       "      <th>MONTH</th>\n",
       "      <th>DAY</th>\n",
       "      <th>DAY_OF_WEEK</th>\n",
       "      <th>AIRLINE</th>\n",
       "      <th>FLIGHT_NUMBER</th>\n",
       "      <th>TAIL_NUMBER</th>\n",
       "      <th>ORIGIN_AIRPORT</th>\n",
       "      <th>DESTINATION_AIRPORT</th>\n",
       "      <th>SCHEDULED_DEPARTURE</th>\n",
       "      <th>...</th>\n",
       "      <th>ARRIVAL_TIME</th>\n",
       "      <th>ARRIVAL_DELAY</th>\n",
       "      <th>DIVERTED</th>\n",
       "      <th>CANCELLED</th>\n",
       "      <th>CANCELLATION_REASON</th>\n",
       "      <th>AIR_SYSTEM_DELAY</th>\n",
       "      <th>SECURITY_DELAY</th>\n",
       "      <th>AIRLINE_DELAY</th>\n",
       "      <th>LATE_AIRCRAFT_DELAY</th>\n",
       "      <th>WEATHER_DELAY</th>\n",
       "    </tr>\n",
       "  </thead>\n",
       "  <tbody>\n",
       "    <tr>\n",
       "      <th>0</th>\n",
       "      <td>2015</td>\n",
       "      <td>1</td>\n",
       "      <td>1</td>\n",
       "      <td>4</td>\n",
       "      <td>AS</td>\n",
       "      <td>98</td>\n",
       "      <td>N407AS</td>\n",
       "      <td>ANC</td>\n",
       "      <td>SEA</td>\n",
       "      <td>5</td>\n",
       "      <td>...</td>\n",
       "      <td>408.0</td>\n",
       "      <td>-22.0</td>\n",
       "      <td>0</td>\n",
       "      <td>0</td>\n",
       "      <td>NaN</td>\n",
       "      <td>NaN</td>\n",
       "      <td>NaN</td>\n",
       "      <td>NaN</td>\n",
       "      <td>NaN</td>\n",
       "      <td>NaN</td>\n",
       "    </tr>\n",
       "    <tr>\n",
       "      <th>1</th>\n",
       "      <td>2015</td>\n",
       "      <td>1</td>\n",
       "      <td>1</td>\n",
       "      <td>4</td>\n",
       "      <td>AA</td>\n",
       "      <td>2336</td>\n",
       "      <td>N3KUAA</td>\n",
       "      <td>LAX</td>\n",
       "      <td>PBI</td>\n",
       "      <td>10</td>\n",
       "      <td>...</td>\n",
       "      <td>741.0</td>\n",
       "      <td>-9.0</td>\n",
       "      <td>0</td>\n",
       "      <td>0</td>\n",
       "      <td>NaN</td>\n",
       "      <td>NaN</td>\n",
       "      <td>NaN</td>\n",
       "      <td>NaN</td>\n",
       "      <td>NaN</td>\n",
       "      <td>NaN</td>\n",
       "    </tr>\n",
       "    <tr>\n",
       "      <th>2</th>\n",
       "      <td>2015</td>\n",
       "      <td>1</td>\n",
       "      <td>1</td>\n",
       "      <td>4</td>\n",
       "      <td>US</td>\n",
       "      <td>840</td>\n",
       "      <td>N171US</td>\n",
       "      <td>SFO</td>\n",
       "      <td>CLT</td>\n",
       "      <td>20</td>\n",
       "      <td>...</td>\n",
       "      <td>811.0</td>\n",
       "      <td>5.0</td>\n",
       "      <td>0</td>\n",
       "      <td>0</td>\n",
       "      <td>NaN</td>\n",
       "      <td>NaN</td>\n",
       "      <td>NaN</td>\n",
       "      <td>NaN</td>\n",
       "      <td>NaN</td>\n",
       "      <td>NaN</td>\n",
       "    </tr>\n",
       "    <tr>\n",
       "      <th>3</th>\n",
       "      <td>2015</td>\n",
       "      <td>1</td>\n",
       "      <td>1</td>\n",
       "      <td>4</td>\n",
       "      <td>AA</td>\n",
       "      <td>258</td>\n",
       "      <td>N3HYAA</td>\n",
       "      <td>LAX</td>\n",
       "      <td>MIA</td>\n",
       "      <td>20</td>\n",
       "      <td>...</td>\n",
       "      <td>756.0</td>\n",
       "      <td>-9.0</td>\n",
       "      <td>0</td>\n",
       "      <td>0</td>\n",
       "      <td>NaN</td>\n",
       "      <td>NaN</td>\n",
       "      <td>NaN</td>\n",
       "      <td>NaN</td>\n",
       "      <td>NaN</td>\n",
       "      <td>NaN</td>\n",
       "    </tr>\n",
       "    <tr>\n",
       "      <th>4</th>\n",
       "      <td>2015</td>\n",
       "      <td>1</td>\n",
       "      <td>1</td>\n",
       "      <td>4</td>\n",
       "      <td>AS</td>\n",
       "      <td>135</td>\n",
       "      <td>N527AS</td>\n",
       "      <td>SEA</td>\n",
       "      <td>ANC</td>\n",
       "      <td>25</td>\n",
       "      <td>...</td>\n",
       "      <td>259.0</td>\n",
       "      <td>-21.0</td>\n",
       "      <td>0</td>\n",
       "      <td>0</td>\n",
       "      <td>NaN</td>\n",
       "      <td>NaN</td>\n",
       "      <td>NaN</td>\n",
       "      <td>NaN</td>\n",
       "      <td>NaN</td>\n",
       "      <td>NaN</td>\n",
       "    </tr>\n",
       "  </tbody>\n",
       "</table>\n",
       "<p>5 rows × 31 columns</p>\n",
       "</div>"
      ],
      "text/plain": [
       "   YEAR  MONTH  DAY  DAY_OF_WEEK AIRLINE  FLIGHT_NUMBER TAIL_NUMBER  \\\n",
       "0  2015      1    1            4      AS             98      N407AS   \n",
       "1  2015      1    1            4      AA           2336      N3KUAA   \n",
       "2  2015      1    1            4      US            840      N171US   \n",
       "3  2015      1    1            4      AA            258      N3HYAA   \n",
       "4  2015      1    1            4      AS            135      N527AS   \n",
       "\n",
       "  ORIGIN_AIRPORT DESTINATION_AIRPORT  SCHEDULED_DEPARTURE      ...        \\\n",
       "0            ANC                 SEA                    5      ...         \n",
       "1            LAX                 PBI                   10      ...         \n",
       "2            SFO                 CLT                   20      ...         \n",
       "3            LAX                 MIA                   20      ...         \n",
       "4            SEA                 ANC                   25      ...         \n",
       "\n",
       "   ARRIVAL_TIME  ARRIVAL_DELAY  DIVERTED  CANCELLED  CANCELLATION_REASON  \\\n",
       "0         408.0          -22.0         0          0                  NaN   \n",
       "1         741.0           -9.0         0          0                  NaN   \n",
       "2         811.0            5.0         0          0                  NaN   \n",
       "3         756.0           -9.0         0          0                  NaN   \n",
       "4         259.0          -21.0         0          0                  NaN   \n",
       "\n",
       "   AIR_SYSTEM_DELAY  SECURITY_DELAY  AIRLINE_DELAY  LATE_AIRCRAFT_DELAY  \\\n",
       "0               NaN             NaN            NaN                  NaN   \n",
       "1               NaN             NaN            NaN                  NaN   \n",
       "2               NaN             NaN            NaN                  NaN   \n",
       "3               NaN             NaN            NaN                  NaN   \n",
       "4               NaN             NaN            NaN                  NaN   \n",
       "\n",
       "   WEATHER_DELAY  \n",
       "0            NaN  \n",
       "1            NaN  \n",
       "2            NaN  \n",
       "3            NaN  \n",
       "4            NaN  \n",
       "\n",
       "[5 rows x 31 columns]"
      ]
     },
     "execution_count": 497,
     "metadata": {},
     "output_type": "execute_result"
    }
   ],
   "source": [
    "df3 = pd.read_csv(os.path.join(settings.DATA_DIR,\"Flights.csv\"))\n",
    "df3.head()"
   ]
  },
  {
   "cell_type": "code",
   "execution_count": 498,
   "metadata": {},
   "outputs": [
    {
     "name": "stdout",
     "output_type": "stream",
     "text": [
      "<class 'pandas.core.frame.DataFrame'>\n",
      "RangeIndex: 5819079 entries, 0 to 5819078\n",
      "Data columns (total 31 columns):\n",
      "YEAR                   int64\n",
      "MONTH                  int64\n",
      "DAY                    int64\n",
      "DAY_OF_WEEK            int64\n",
      "AIRLINE                object\n",
      "FLIGHT_NUMBER          int64\n",
      "TAIL_NUMBER            object\n",
      "ORIGIN_AIRPORT         object\n",
      "DESTINATION_AIRPORT    object\n",
      "SCHEDULED_DEPARTURE    int64\n",
      "DEPARTURE_TIME         float64\n",
      "DEPARTURE_DELAY        float64\n",
      "TAXI_OUT               float64\n",
      "WHEELS_OFF             float64\n",
      "SCHEDULED_TIME         float64\n",
      "ELAPSED_TIME           float64\n",
      "AIR_TIME               float64\n",
      "DISTANCE               int64\n",
      "WHEELS_ON              float64\n",
      "TAXI_IN                float64\n",
      "SCHEDULED_ARRIVAL      int64\n",
      "ARRIVAL_TIME           float64\n",
      "ARRIVAL_DELAY          float64\n",
      "DIVERTED               int64\n",
      "CANCELLED              int64\n",
      "CANCELLATION_REASON    object\n",
      "AIR_SYSTEM_DELAY       float64\n",
      "SECURITY_DELAY         float64\n",
      "AIRLINE_DELAY          float64\n",
      "LATE_AIRCRAFT_DELAY    float64\n",
      "WEATHER_DELAY          float64\n",
      "dtypes: float64(16), int64(10), object(5)\n",
      "memory usage: 1.3+ GB\n"
     ]
    }
   ],
   "source": [
    "df3.info()"
   ]
  },
  {
   "cell_type": "markdown",
   "metadata": {},
   "source": [
    "##### To make this data useful we will need to take several steps.  \n",
    "1) We need to drop columns we think will not add any value to the analysis and prediction\n",
    "2) We need to combine the three data frames in a way which will benefit the analysis\n",
    "3) We need to split the dataframe into two: features (eg origin, latitude, month) and predictions (eg cancelled).\n",
    "this is necessary for the machine learning prediction stage. \n",
    "4) we need to convert categorical features into boolean values and fill in missing data"
   ]
  },
  {
   "cell_type": "code",
   "execution_count": 499,
   "metadata": {},
   "outputs": [
    {
     "name": "stdout",
     "output_type": "stream",
     "text": [
      "0    5729195\n",
      "1      89884\n",
      "Name: CANCELLED, dtype: int64\n"
     ]
    },
    {
     "data": {
      "text/plain": [
       "<matplotlib.axes._subplots.AxesSubplot at 0x168946320>"
      ]
     },
     "execution_count": 499,
     "metadata": {},
     "output_type": "execute_result"
    },
    {
     "data": {
      "image/png": "[encoded data removed]",
      "text/plain": [
       "<matplotlib.figure.Figure at 0x12d1ba6d8>"
      ]
     },
     "metadata": {},
     "output_type": "display_data"
    }
   ],
   "source": [
    "''' first lets do an exploratory analysis so we can guess which features are most important \n",
    "first is looks like a very small percentage of flights are cancelled. \n",
    "when we split the data set into test/train we need to keep that in mind '''\n",
    "print(df3['CANCELLED'].value_counts())\n",
    "sns.countplot(x='CANCELLED', data=df3)"
   ]
  },
  {
   "cell_type": "code",
   "execution_count": 500,
   "metadata": {},
   "outputs": [
    {
     "data": {
      "text/plain": [
       "<matplotlib.axes._subplots.AxesSubplot at 0x12d2a3828>"
      ]
     },
     "execution_count": 500,
     "metadata": {},
     "output_type": "execute_result"
    },
    {
     "data": {
      "image/png": "[encoded data removed]",
      "text/plain": [
       "<matplotlib.figure.Figure at 0x18ccdb748>"
      ]
     },
     "metadata": {},
     "output_type": "display_data"
    }
   ],
   "source": [
    "'''cancellation_reason: carrier, weather, national airsystem, security'''\n",
    "sns.countplot(x=\"CANCELLATION_REASON\",data=df3)"
   ]
  },
  {
   "cell_type": "code",
   "execution_count": 501,
   "metadata": {},
   "outputs": [
    {
     "data": {
      "text/plain": [
       "<matplotlib.axes._subplots.AxesSubplot at 0x13c024d30>"
      ]
     },
     "execution_count": 501,
     "metadata": {},
     "output_type": "execute_result"
    },
    {
     "data": {
      "image/png": "[encoded data removed]",
      "text/plain": [
       "<matplotlib.figure.Figure at 0x12d1c8ac8>"
      ]
     },
     "metadata": {},
     "output_type": "display_data"
    }
   ],
   "source": [
    "'''lets specifically look at cancellation_reason B, weather related, and group the data by month.  is there a month \n",
    "with more weather related cancellations?  Unsurprisingly, most weather related cancellations happen in winter months'''\n",
    "sns.countplot(x = \"MONTH\",data=df3[df3[\"CANCELLATION_REASON\"]=='B'])\n"
   ]
  },
  {
   "cell_type": "code",
   "execution_count": 502,
   "metadata": {},
   "outputs": [
    {
     "data": {
      "text/plain": [
       "<matplotlib.axes._subplots.AxesSubplot at 0x12f79ae80>"
      ]
     },
     "execution_count": 502,
     "metadata": {},
     "output_type": "execute_result"
    },
    {
     "data": {
      "image/png": "[encoded data removed]",
      "text/plain": [
       "<matplotlib.figure.Figure at 0x12c0f9cf8>"
      ]
     },
     "metadata": {},
     "output_type": "display_data"
    }
   ],
   "source": [
    "'''for this to make sense, we should be finding the percentage of flights that were cancelled as opposed to the total \n",
    "cancelled. We can do that by plotting the mean of 'CANCELLED' for each of the months '''\n",
    "grouped_month = df3[['MONTH','CANCELLED']].groupby(['MONTH'],as_index=False).mean()\n",
    "sns.barplot(x='MONTH', y='CANCELLED', data=grouped_month)\n"
   ]
  },
  {
   "cell_type": "code",
   "execution_count": 503,
   "metadata": {},
   "outputs": [
    {
     "data": {
      "text/html": [
       "<div>\n",
       "<table border=\"1\" class=\"dataframe\">\n",
       "  <thead>\n",
       "    <tr style=\"text-align: right;\">\n",
       "      <th></th>\n",
       "      <th>YEAR</th>\n",
       "      <th>MONTH</th>\n",
       "      <th>DAY</th>\n",
       "      <th>DAY_OF_WEEK</th>\n",
       "      <th>AIRLINE</th>\n",
       "      <th>FLIGHT_NUMBER</th>\n",
       "      <th>TAIL_NUMBER</th>\n",
       "      <th>ORIGIN_AIRPORT</th>\n",
       "      <th>DESTINATION_AIRPORT</th>\n",
       "      <th>SCHEDULED_DEPARTURE</th>\n",
       "      <th>...</th>\n",
       "      <th>CANCELLATION_REASON</th>\n",
       "      <th>AIR_SYSTEM_DELAY</th>\n",
       "      <th>SECURITY_DELAY</th>\n",
       "      <th>AIRLINE_DELAY</th>\n",
       "      <th>LATE_AIRCRAFT_DELAY</th>\n",
       "      <th>WEATHER_DELAY</th>\n",
       "      <th>ORIGIN_LAT</th>\n",
       "      <th>ORIGIN_LONG</th>\n",
       "      <th>DEST_LAT</th>\n",
       "      <th>DEST_LONG</th>\n",
       "    </tr>\n",
       "  </thead>\n",
       "  <tbody>\n",
       "    <tr>\n",
       "      <th>0</th>\n",
       "      <td>2015</td>\n",
       "      <td>1</td>\n",
       "      <td>1</td>\n",
       "      <td>4</td>\n",
       "      <td>AS</td>\n",
       "      <td>98</td>\n",
       "      <td>N407AS</td>\n",
       "      <td>ANC</td>\n",
       "      <td>SEA</td>\n",
       "      <td>5</td>\n",
       "      <td>...</td>\n",
       "      <td>NaN</td>\n",
       "      <td>NaN</td>\n",
       "      <td>NaN</td>\n",
       "      <td>NaN</td>\n",
       "      <td>NaN</td>\n",
       "      <td>NaN</td>\n",
       "      <td>61.17432</td>\n",
       "      <td>-149.99619</td>\n",
       "      <td>47.44898</td>\n",
       "      <td>-122.30931</td>\n",
       "    </tr>\n",
       "    <tr>\n",
       "      <th>1</th>\n",
       "      <td>2015</td>\n",
       "      <td>1</td>\n",
       "      <td>1</td>\n",
       "      <td>4</td>\n",
       "      <td>AA</td>\n",
       "      <td>2336</td>\n",
       "      <td>N3KUAA</td>\n",
       "      <td>LAX</td>\n",
       "      <td>PBI</td>\n",
       "      <td>10</td>\n",
       "      <td>...</td>\n",
       "      <td>NaN</td>\n",
       "      <td>NaN</td>\n",
       "      <td>NaN</td>\n",
       "      <td>NaN</td>\n",
       "      <td>NaN</td>\n",
       "      <td>NaN</td>\n",
       "      <td>33.94254</td>\n",
       "      <td>-118.40807</td>\n",
       "      <td>26.68316</td>\n",
       "      <td>-80.09559</td>\n",
       "    </tr>\n",
       "    <tr>\n",
       "      <th>2</th>\n",
       "      <td>2015</td>\n",
       "      <td>1</td>\n",
       "      <td>1</td>\n",
       "      <td>4</td>\n",
       "      <td>US</td>\n",
       "      <td>840</td>\n",
       "      <td>N171US</td>\n",
       "      <td>SFO</td>\n",
       "      <td>CLT</td>\n",
       "      <td>20</td>\n",
       "      <td>...</td>\n",
       "      <td>NaN</td>\n",
       "      <td>NaN</td>\n",
       "      <td>NaN</td>\n",
       "      <td>NaN</td>\n",
       "      <td>NaN</td>\n",
       "      <td>NaN</td>\n",
       "      <td>37.61900</td>\n",
       "      <td>-122.37484</td>\n",
       "      <td>35.21401</td>\n",
       "      <td>-80.94313</td>\n",
       "    </tr>\n",
       "    <tr>\n",
       "      <th>3</th>\n",
       "      <td>2015</td>\n",
       "      <td>1</td>\n",
       "      <td>1</td>\n",
       "      <td>4</td>\n",
       "      <td>AA</td>\n",
       "      <td>258</td>\n",
       "      <td>N3HYAA</td>\n",
       "      <td>LAX</td>\n",
       "      <td>MIA</td>\n",
       "      <td>20</td>\n",
       "      <td>...</td>\n",
       "      <td>NaN</td>\n",
       "      <td>NaN</td>\n",
       "      <td>NaN</td>\n",
       "      <td>NaN</td>\n",
       "      <td>NaN</td>\n",
       "      <td>NaN</td>\n",
       "      <td>33.94254</td>\n",
       "      <td>-118.40807</td>\n",
       "      <td>25.79325</td>\n",
       "      <td>-80.29056</td>\n",
       "    </tr>\n",
       "    <tr>\n",
       "      <th>4</th>\n",
       "      <td>2015</td>\n",
       "      <td>1</td>\n",
       "      <td>1</td>\n",
       "      <td>4</td>\n",
       "      <td>AS</td>\n",
       "      <td>135</td>\n",
       "      <td>N527AS</td>\n",
       "      <td>SEA</td>\n",
       "      <td>ANC</td>\n",
       "      <td>25</td>\n",
       "      <td>...</td>\n",
       "      <td>NaN</td>\n",
       "      <td>NaN</td>\n",
       "      <td>NaN</td>\n",
       "      <td>NaN</td>\n",
       "      <td>NaN</td>\n",
       "      <td>NaN</td>\n",
       "      <td>47.44898</td>\n",
       "      <td>-122.30931</td>\n",
       "      <td>61.17432</td>\n",
       "      <td>-149.99619</td>\n",
       "    </tr>\n",
       "  </tbody>\n",
       "</table>\n",
       "<p>5 rows × 35 columns</p>\n",
       "</div>"
      ],
      "text/plain": [
       "   YEAR  MONTH  DAY  DAY_OF_WEEK AIRLINE  FLIGHT_NUMBER TAIL_NUMBER  \\\n",
       "0  2015      1    1            4      AS             98      N407AS   \n",
       "1  2015      1    1            4      AA           2336      N3KUAA   \n",
       "2  2015      1    1            4      US            840      N171US   \n",
       "3  2015      1    1            4      AA            258      N3HYAA   \n",
       "4  2015      1    1            4      AS            135      N527AS   \n",
       "\n",
       "  ORIGIN_AIRPORT DESTINATION_AIRPORT  SCHEDULED_DEPARTURE    ...      \\\n",
       "0            ANC                 SEA                    5    ...       \n",
       "1            LAX                 PBI                   10    ...       \n",
       "2            SFO                 CLT                   20    ...       \n",
       "3            LAX                 MIA                   20    ...       \n",
       "4            SEA                 ANC                   25    ...       \n",
       "\n",
       "   CANCELLATION_REASON  AIR_SYSTEM_DELAY  SECURITY_DELAY  AIRLINE_DELAY  \\\n",
       "0                  NaN               NaN             NaN            NaN   \n",
       "1                  NaN               NaN             NaN            NaN   \n",
       "2                  NaN               NaN             NaN            NaN   \n",
       "3                  NaN               NaN             NaN            NaN   \n",
       "4                  NaN               NaN             NaN            NaN   \n",
       "\n",
       "   LATE_AIRCRAFT_DELAY  WEATHER_DELAY  ORIGIN_LAT  ORIGIN_LONG  DEST_LAT  \\\n",
       "0                  NaN            NaN    61.17432   -149.99619  47.44898   \n",
       "1                  NaN            NaN    33.94254   -118.40807  26.68316   \n",
       "2                  NaN            NaN    37.61900   -122.37484  35.21401   \n",
       "3                  NaN            NaN    33.94254   -118.40807  25.79325   \n",
       "4                  NaN            NaN    47.44898   -122.30931  61.17432   \n",
       "\n",
       "   DEST_LONG  \n",
       "0 -122.30931  \n",
       "1  -80.09559  \n",
       "2  -80.94313  \n",
       "3  -80.29056  \n",
       "4 -149.99619  \n",
       "\n",
       "[5 rows x 35 columns]"
      ]
     },
     "execution_count": 503,
     "metadata": {},
     "output_type": "execute_result"
    }
   ],
   "source": [
    "# next we will integrate the latitude/longitude information into the flights dataframe\n",
    "df2 = df2.set_index(\"IATA_CODE\")\n",
    "df3['ORIGIN_LAT']=(df2['LATITUDE'][df3[\"ORIGIN_AIRPORT\"][:]]).reset_index()[['LATITUDE']]\n",
    "df3['ORIGIN_LONG']=(df2['LONGITUDE'][df3[\"ORIGIN_AIRPORT\"][:]]).reset_index()[['LONGITUDE']]\n",
    "df3['DEST_LAT']=(df2['LATITUDE'][df3[\"DESTINATION_AIRPORT\"][:]]).reset_index()[['LATITUDE']]\n",
    "df3['DEST_LONG']=(df2['LONGITUDE'][df3[\"DESTINATION_AIRPORT\"][:]]).reset_index()[['LONGITUDE']]\n",
    "df3.head()"
   ]
  },
  {
   "cell_type": "code",
   "execution_count": 504,
   "metadata": {},
   "outputs": [],
   "source": [
    "def barplot_feature(df,feature, target = 'CANCELLED',cut = False, bins = 3):\n",
    "    '''Plot of cancellation rate for various features. More continuous features can be binned together to convert\n",
    "    to ranges of values\n",
    "    \n",
    "    df: the dataframe where the data is coming from\n",
    "    feature: the feature to be plotted, must be a string a match a feature in df\n",
    "    target: the prediction value, must be a string and match a feature in df\n",
    "    cut: use cut if feature has continuous values.  '''\n",
    "    if cut == True:\n",
    "        # define a new feature which specifies a range of values for 'feature'.  ranges are determined according to 'bin'\n",
    "        df['bins'] = pd.cut(df3[feature],bins)\n",
    "        group_df = df[['bins',target]].groupby(['bins']).mean()\n",
    "        return group_df.plot(kind='bar')\n",
    "        #plt.title(feature)\n",
    "    else:\n",
    "        group_df = df[[feature,target]].groupby([feature],as_index=False).mean()\n",
    "        return sns.barplot(x = feature, y = target, data=group_df)\n",
    "        "
   ]
  },
  {
   "cell_type": "code",
   "execution_count": 505,
   "metadata": {},
   "outputs": [
    {
     "data": {
      "text/plain": [
       "<matplotlib.text.Text at 0x12e8edbe0>"
      ]
     },
     "execution_count": 505,
     "metadata": {},
     "output_type": "execute_result"
    },
    {
     "data": {
      "image/png": "[encoded data removed]",
      "text/plain": [
       "<matplotlib.figure.Figure at 0x12f85bcf8>"
      ]
     },
     "metadata": {},
     "output_type": "display_data"
    },
    {
     "data": {
      "image/png": "[encoded data removed]",
      "text/plain": [
       "<matplotlib.figure.Figure at 0x12e763438>"
      ]
     },
     "metadata": {},
     "output_type": "display_data"
    },
    {
     "data": {
      "image/png": "[encoded data removed]",
      "text/plain": [
       "<matplotlib.figure.Figure at 0x12e7cec50>"
      ]
     },
     "metadata": {},
     "output_type": "display_data"
    },
    {
     "data": {
      "image/png": "[encoded data removed]",
      "text/plain": [
       "<matplotlib.figure.Figure at 0x12e8b5da0>"
      ]
     },
     "metadata": {},
     "output_type": "display_data"
    }
   ],
   "source": [
    "#how much does airport location play a role?\n",
    "barplot_feature(df3,'DEST_LAT',cut = True, bins = 10)\n",
    "plt.title('Destination_Latitude')\n",
    "barplot_feature(df3,'ORIGIN_LAT',cut = True, bins = 10)\n",
    "plt.title('Origin_Latitude')\n",
    "barplot_feature(df3,'DEST_LONG',cut = True, bins = 10)\n",
    "plt.title('Destination_Longitude')\n",
    "barplot_feature(df3,'ORIGIN_LONG',cut = True, bins = 10)\n",
    "plt.title('Origin_Longitude')"
   ]
  },
  {
   "cell_type": "code",
   "execution_count": 506,
   "metadata": {},
   "outputs": [
    {
     "data": {
      "text/plain": [
       "<matplotlib.axes._subplots.AxesSubplot at 0x12d219358>"
      ]
     },
     "execution_count": 506,
     "metadata": {},
     "output_type": "execute_result"
    },
    {
     "data": {
      "image/png": "[encoded data removed]",
      "text/plain": [
       "<matplotlib.figure.Figure at 0x37d124be0>"
      ]
     },
     "metadata": {},
     "output_type": "display_data"
    }
   ],
   "source": [
    "#day of week does not seem to matter much\n",
    "barplot_feature(df3,'DAY_OF_WEEK')"
   ]
  },
  {
   "cell_type": "code",
   "execution_count": 507,
   "metadata": {},
   "outputs": [
    {
     "data": {
      "text/plain": [
       "<matplotlib.axes._subplots.AxesSubplot at 0x12f713eb8>"
      ]
     },
     "execution_count": 507,
     "metadata": {},
     "output_type": "execute_result"
    },
    {
     "data": {
      "image/png": "[encoded data removed]",
      "text/plain": [
       "<matplotlib.figure.Figure at 0x12f78ccc0>"
      ]
     },
     "metadata": {},
     "output_type": "display_data"
    }
   ],
   "source": [
    "#airline analysis - one airline really sticks out\n",
    "barplot_feature(df3,'AIRLINE')"
   ]
  },
  {
   "cell_type": "code",
   "execution_count": 508,
   "metadata": {},
   "outputs": [
    {
     "data": {
      "text/plain": [
       "<matplotlib.text.Text at 0x1301a2550>"
      ]
     },
     "execution_count": 508,
     "metadata": {},
     "output_type": "execute_result"
    },
    {
     "data": {
      "image/png": "[encoded data removed]",
      "text/plain": [
       "<matplotlib.figure.Figure at 0x12fb6c780>"
      ]
     },
     "metadata": {},
     "output_type": "display_data"
    },
    {
     "data": {
      "image/png": "[encoded data removed]",
      "text/plain": [
       "<matplotlib.figure.Figure at 0x12fb6c160>"
      ]
     },
     "metadata": {},
     "output_type": "display_data"
    },
    {
     "data": {
      "image/png": "[encoded data removed]",
      "text/plain": [
       "<matplotlib.figure.Figure at 0x12fb6ce48>"
      ]
     },
     "metadata": {},
     "output_type": "display_data"
    }
   ],
   "source": [
    "#SCHEDULED_DEPARTURE, later flights are slightly more likely to be cancelled?\n",
    "barplot_feature(df3,'SCHEDULED_DEPARTURE', cut = True, bins = 10)\n",
    "plt.title('Schedule_Departure')\n",
    "barplot_feature(df3,'DISTANCE', cut = True, bins = 10)\n",
    "plt.title('DISTANCE')\n",
    "barplot_feature(df3,'SCHEDULED_TIME', cut = True, bins = 10)\n",
    "plt.title('SCHEDULED_TIME')\n",
    "\n"
   ]
  },
  {
   "cell_type": "markdown",
   "metadata": {},
   "source": [
    "## data preprocessing\n",
    "Now that we have a visual overview of the data, lets prepare the data for the learning algorithms.  this includes choosing the features we will learn on, filling in missing values and converting categorical data to numerical or boolean data."
   ]
  },
  {
   "cell_type": "code",
   "execution_count": 509,
   "metadata": {},
   "outputs": [
    {
     "name": "stdout",
     "output_type": "stream",
     "text": [
      "MONTH                  5323693\n",
      "DAY_OF_WEEK            5323693\n",
      "AIRLINE                5323693\n",
      "SCHEDULED_DEPARTURE    5323693\n",
      "SCHEDULED_ARRIVAL      5323693\n",
      "DISTANCE               5323693\n",
      "SCHEDULED_TIME         5323693\n",
      "DEST_LAT               5323693\n",
      "ORIGIN_LAT             5323693\n",
      "DEST_LONG              5323693\n",
      "ORIGIN_LONG            5323693\n",
      "dtype: int64\n",
      "------------------------\n",
      "<class 'pandas.core.frame.DataFrame'>\n",
      "Int64Index: 5323693 entries, 0 to 5819078\n",
      "Data columns (total 11 columns):\n",
      "MONTH                  int64\n",
      "DAY_OF_WEEK            int64\n",
      "AIRLINE                object\n",
      "SCHEDULED_DEPARTURE    int64\n",
      "SCHEDULED_ARRIVAL      int64\n",
      "DISTANCE               int64\n",
      "SCHEDULED_TIME         float64\n",
      "DEST_LAT               float64\n",
      "ORIGIN_LAT             float64\n",
      "DEST_LONG              float64\n",
      "ORIGIN_LONG            float64\n",
      "dtypes: float64(5), int64(5), object(1)\n",
      "memory usage: 487.4+ MB\n",
      "None\n"
     ]
    }
   ],
   "source": [
    "'''The data has a lot of missing values but a lot of it is in columns we don't want anyways. Let's list the features we \n",
    "want to keep. Then get rid of rows that have missing data. We will use the airport location as opposed to code\n",
    "to decrease the number of features as we would need a dummy feature for each airport'''\n",
    "features = [\"MONTH\",\"DAY_OF_WEEK\",\"AIRLINE\",\"SCHEDULED_DEPARTURE\",\"SCHEDULED_ARRIVAL\",\"DISTANCE\",\n",
    "           \"SCHEDULED_TIME\",\"DEST_LAT\",\"ORIGIN_LAT\",\"DEST_LONG\",\"ORIGIN_LONG\", \"CANCELLED\"]\n",
    "df4 = df3[features]\n",
    "#now drop any missing values\n",
    "df4 = df4.dropna()\n",
    "# set the predictions vector\n",
    "y = df4[['CANCELLED']].as_matrix()\n",
    "#sklearn requires the data to be shaped this way\n",
    "c, r = y.shape\n",
    "y = y.reshape(c,)\n",
    "# drop the predictions vector from the features matrix\n",
    "X = df4.drop(['CANCELLED'],axis=1)\n",
    "print(X.count())\n",
    "print('------------------------')\n",
    "print(X.info())"
   ]
  },
  {
   "cell_type": "code",
   "execution_count": 510,
   "metadata": {},
   "outputs": [
    {
     "data": {
      "text/html": [
       "<div>\n",
       "<table border=\"1\" class=\"dataframe\">\n",
       "  <thead>\n",
       "    <tr style=\"text-align: right;\">\n",
       "      <th></th>\n",
       "      <th>SCHEDULED_DEPARTURE</th>\n",
       "      <th>SCHEDULED_ARRIVAL</th>\n",
       "      <th>DISTANCE</th>\n",
       "      <th>SCHEDULED_TIME</th>\n",
       "      <th>DEST_LAT</th>\n",
       "      <th>ORIGIN_LAT</th>\n",
       "      <th>DEST_LONG</th>\n",
       "      <th>ORIGIN_LONG</th>\n",
       "      <th>AA</th>\n",
       "      <th>AS</th>\n",
       "      <th>...</th>\n",
       "      <th>MONTH_9</th>\n",
       "      <th>MONTH_11</th>\n",
       "      <th>MONTH_12</th>\n",
       "      <th>DAY_1</th>\n",
       "      <th>DAY_2</th>\n",
       "      <th>DAY_3</th>\n",
       "      <th>DAY_4</th>\n",
       "      <th>DAY_5</th>\n",
       "      <th>DAY_6</th>\n",
       "      <th>DAY_7</th>\n",
       "    </tr>\n",
       "  </thead>\n",
       "  <tbody>\n",
       "    <tr>\n",
       "      <th>0</th>\n",
       "      <td>5</td>\n",
       "      <td>430</td>\n",
       "      <td>1448</td>\n",
       "      <td>205.0</td>\n",
       "      <td>47.44898</td>\n",
       "      <td>61.17432</td>\n",
       "      <td>-122.30931</td>\n",
       "      <td>-149.99619</td>\n",
       "      <td>0</td>\n",
       "      <td>1</td>\n",
       "      <td>...</td>\n",
       "      <td>0</td>\n",
       "      <td>0</td>\n",
       "      <td>0</td>\n",
       "      <td>0</td>\n",
       "      <td>0</td>\n",
       "      <td>0</td>\n",
       "      <td>1</td>\n",
       "      <td>0</td>\n",
       "      <td>0</td>\n",
       "      <td>0</td>\n",
       "    </tr>\n",
       "    <tr>\n",
       "      <th>1</th>\n",
       "      <td>10</td>\n",
       "      <td>750</td>\n",
       "      <td>2330</td>\n",
       "      <td>280.0</td>\n",
       "      <td>26.68316</td>\n",
       "      <td>33.94254</td>\n",
       "      <td>-80.09559</td>\n",
       "      <td>-118.40807</td>\n",
       "      <td>1</td>\n",
       "      <td>0</td>\n",
       "      <td>...</td>\n",
       "      <td>0</td>\n",
       "      <td>0</td>\n",
       "      <td>0</td>\n",
       "      <td>0</td>\n",
       "      <td>0</td>\n",
       "      <td>0</td>\n",
       "      <td>1</td>\n",
       "      <td>0</td>\n",
       "      <td>0</td>\n",
       "      <td>0</td>\n",
       "    </tr>\n",
       "    <tr>\n",
       "      <th>2</th>\n",
       "      <td>20</td>\n",
       "      <td>806</td>\n",
       "      <td>2296</td>\n",
       "      <td>286.0</td>\n",
       "      <td>35.21401</td>\n",
       "      <td>37.61900</td>\n",
       "      <td>-80.94313</td>\n",
       "      <td>-122.37484</td>\n",
       "      <td>0</td>\n",
       "      <td>0</td>\n",
       "      <td>...</td>\n",
       "      <td>0</td>\n",
       "      <td>0</td>\n",
       "      <td>0</td>\n",
       "      <td>0</td>\n",
       "      <td>0</td>\n",
       "      <td>0</td>\n",
       "      <td>1</td>\n",
       "      <td>0</td>\n",
       "      <td>0</td>\n",
       "      <td>0</td>\n",
       "    </tr>\n",
       "    <tr>\n",
       "      <th>3</th>\n",
       "      <td>20</td>\n",
       "      <td>805</td>\n",
       "      <td>2342</td>\n",
       "      <td>285.0</td>\n",
       "      <td>25.79325</td>\n",
       "      <td>33.94254</td>\n",
       "      <td>-80.29056</td>\n",
       "      <td>-118.40807</td>\n",
       "      <td>1</td>\n",
       "      <td>0</td>\n",
       "      <td>...</td>\n",
       "      <td>0</td>\n",
       "      <td>0</td>\n",
       "      <td>0</td>\n",
       "      <td>0</td>\n",
       "      <td>0</td>\n",
       "      <td>0</td>\n",
       "      <td>1</td>\n",
       "      <td>0</td>\n",
       "      <td>0</td>\n",
       "      <td>0</td>\n",
       "    </tr>\n",
       "    <tr>\n",
       "      <th>4</th>\n",
       "      <td>25</td>\n",
       "      <td>320</td>\n",
       "      <td>1448</td>\n",
       "      <td>235.0</td>\n",
       "      <td>61.17432</td>\n",
       "      <td>47.44898</td>\n",
       "      <td>-149.99619</td>\n",
       "      <td>-122.30931</td>\n",
       "      <td>0</td>\n",
       "      <td>1</td>\n",
       "      <td>...</td>\n",
       "      <td>0</td>\n",
       "      <td>0</td>\n",
       "      <td>0</td>\n",
       "      <td>0</td>\n",
       "      <td>0</td>\n",
       "      <td>0</td>\n",
       "      <td>1</td>\n",
       "      <td>0</td>\n",
       "      <td>0</td>\n",
       "      <td>0</td>\n",
       "    </tr>\n",
       "  </tbody>\n",
       "</table>\n",
       "<p>5 rows × 40 columns</p>\n",
       "</div>"
      ],
      "text/plain": [
       "   SCHEDULED_DEPARTURE  SCHEDULED_ARRIVAL  DISTANCE  SCHEDULED_TIME  DEST_LAT  \\\n",
       "0                    5                430      1448           205.0  47.44898   \n",
       "1                   10                750      2330           280.0  26.68316   \n",
       "2                   20                806      2296           286.0  35.21401   \n",
       "3                   20                805      2342           285.0  25.79325   \n",
       "4                   25                320      1448           235.0  61.17432   \n",
       "\n",
       "   ORIGIN_LAT  DEST_LONG  ORIGIN_LONG  AA  AS  ...    MONTH_9  MONTH_11  \\\n",
       "0    61.17432 -122.30931   -149.99619   0   1  ...          0         0   \n",
       "1    33.94254  -80.09559   -118.40807   1   0  ...          0         0   \n",
       "2    37.61900  -80.94313   -122.37484   0   0  ...          0         0   \n",
       "3    33.94254  -80.29056   -118.40807   1   0  ...          0         0   \n",
       "4    47.44898 -149.99619   -122.30931   0   1  ...          0         0   \n",
       "\n",
       "   MONTH_12  DAY_1  DAY_2  DAY_3  DAY_4  DAY_5  DAY_6  DAY_7  \n",
       "0         0      0      0      0      1      0      0      0  \n",
       "1         0      0      0      0      1      0      0      0  \n",
       "2         0      0      0      0      1      0      0      0  \n",
       "3         0      0      0      0      1      0      0      0  \n",
       "4         0      0      0      0      1      0      0      0  \n",
       "\n",
       "[5 rows x 40 columns]"
      ]
     },
     "execution_count": 510,
     "metadata": {},
     "output_type": "execute_result"
    }
   ],
   "source": [
    "'''We will need to create dummy variables for each of the categorical features in order to use this feature \n",
    "in the learning algorithms.  This can be easily done using the pandas library.  Even though month and day can be represented\n",
    "as integers, its still categorical data and the numbers dont have analytical meaning'''\n",
    "X = pd.concat([X, pd.get_dummies(X['AIRLINE'])], axis=1).drop(['AIRLINE'],axis=1)\n",
    "X = pd.concat([X, pd.get_dummies(X['MONTH'],prefix=\"MONTH\")], axis=1).drop(['MONTH'],axis=1)\n",
    "X = pd.concat([X, pd.get_dummies(X['DAY_OF_WEEK'],prefix=\"DAY\")], axis=1).drop(['DAY_OF_WEEK'],axis=1)\n",
    "X.head()"
   ]
  },
  {
   "cell_type": "markdown",
   "metadata": {},
   "source": [
    "## Now we can start making predictions"
   ]
  },
  {
   "cell_type": "code",
   "execution_count": 511,
   "metadata": {
    "collapsed": true
   },
   "outputs": [],
   "source": [
    "''' Lets write some functions for computing the results so we can easily compare different models, feature selections, etc\n",
    "'''\n",
    "def compute_false_negatives(target, predictions):\n",
    "    # rate at which model predicts a 0 but target hould be a 1\n",
    "    df = pd.DataFrame({\"target\": target, \"predictions\": predictions})\n",
    "    return df[(df[\"target\"] == 1) & (df[\"predictions\"] == 0)].shape[0] / (df[(df[\"target\"] == 1)].shape[0] + 1)\n",
    "\n",
    "def compute_false_positives(target, predictions):\n",
    "    # rate at which model predicts a 1 but target is a 0\n",
    "    df = pd.DataFrame({\"target\": target, \"predictions\": predictions})\n",
    "    return df[(df[\"target\"] == 0) & (df[\"predictions\"] == 1)].shape[0] / (df[(df[\"target\"] == 0)].shape[0] + 1)\n",
    "\n",
    "def display_metrics(target,predictions):\n",
    "   # print(\"accuracy : \", compute_error(model, target,predictions))\n",
    "    print(\"false negative rate : \", compute_false_negatives(target,predictions))\n",
    "    print(\"false positive rate : \", compute_false_positives(target,predictions))"
   ]
  },
  {
   "cell_type": "code",
   "execution_count": 512,
   "metadata": {},
   "outputs": [],
   "source": [
    "# split data in training set and testing set\n",
    "X_train, X_test, y_train, y_test = train_test_split(X, y, test_size=0.3, random_state=1)\n",
    "# we want to standardize (0 mean, unit variance) the features that are on the same scale.  we won't do this for the \n",
    "# binary (dummy) features we created.  we first need to seperate those two groups of features\n",
    "scale_features = ['SCHEDULED_DEPARTURE', 'SCHEDULED_ARRIVAL', 'DISTANCE',\n",
    "        'DEST_LAT', 'ORIGIN_LAT', 'DEST_LONG', 'ORIGIN_LONG']\n",
    "X_train_cat = X_train.drop(scale_features,axis=1).as_matrix()\n",
    "X_test_cat = X_test.drop(scale_features,axis=1).as_matrix()\n",
    "# mean and variance is calculated for features in the scale_features list for the training set\n",
    "scaler = preprocessing.StandardScaler().fit(X_train[scale_features])\n",
    "# apply the scaling transformation calculated above to these features in the trainging set\n",
    "X_train_transformed = scaler.transform(X_train[scale_features])\n",
    "# add these features back to the categorical/dummy features\n",
    "X_train_final = np.concatenate((X_train_transformed,X_train_cat),axis=1)\n",
    "\n",
    "'''Logistic Regression can be used for binary classification. Setting class_weight to \"balanced\" will account for the \n",
    "mismatch of False over True in the data set. Without this flag, it would be easy for the algorithm to just also predict\n",
    "FALSE with low error but that obviously defeats the purpose!'''\n",
    "clf = LogisticRegression(random_state=1, class_weight=\"balanced\").fit(X_train_final, y_train)\n",
    "# test features are scaled by values calculated with the train set\n",
    "X_test_transformed = scaler.transform(X_test[scale_features])\n",
    "X_test_final = np.concatenate((X_test_transformed,X_test_cat),axis=1)\n",
    "predictions = clf.predict(X_test_final)\n"
   ]
  },
  {
   "cell_type": "code",
   "execution_count": 513,
   "metadata": {},
   "outputs": [
    {
     "name": "stdout",
     "output_type": "stream",
     "text": [
      "mean accuracy :  0.687380565372\n",
      "false negative rate :  0.30887823585810165\n",
      "false positive rate :  0.3126811305922529\n"
     ]
    }
   ],
   "source": [
    "print(\"mean accuracy : \",clf.score(X_test_final, y_test) )\n",
    "display_metrics(y_test,predictions)"
   ]
  },
  {
   "cell_type": "code",
   "execution_count": 514,
   "metadata": {},
   "outputs": [
    {
     "name": "stdout",
     "output_type": "stream",
     "text": [
      "    Features  Coefficient Estimate\n",
      "2   DISTANCE             -1.564076\n",
      "11        DL             -1.399830\n",
      "30   MONTH_9             -1.375274\n",
      "9         AS             -1.163774\n",
      "37     DAY_5             -0.787594\n",
      "   Features  Coefficient Estimate\n",
      "22  MONTH_1              0.380063\n",
      "16       NK              0.398086\n",
      "12       EV              0.400581\n",
      "15       MQ              1.014092\n",
      "23  MONTH_2              1.077268\n"
     ]
    }
   ],
   "source": [
    "'''Which features are most important in our model? We can check this by looking at the fit coefficents'''\n",
    "coeff_df=pd.DataFrame(X.columns)\n",
    "coeff_df.columns = ['Features']\n",
    "coeff_df['Coefficient Estimate'] = pd.Series(clf.coef_[0])\n",
    "coeff_df = coeff_df.sort_values(by=\"Coefficient Estimate\")\n",
    "print(coeff_df.head())\n",
    "print(coeff_df.tail())"
   ]
  },
  {
   "cell_type": "markdown",
   "metadata": {},
   "source": [
    "## Predict weather related cancellations\n",
    "Instead of predicting whether a flight in cancelled or not, lets try to predict if a flight is cancelled for whether related reasons.  The original data splits the cancellations into 4 categories: \"carrier\", \"weather\", \"national airsystem\", \"security\". It seems reasonable to make the statement that only the \"weather\" categorie would be predictible. Let's see if this improves our results."
   ]
  },
  {
   "cell_type": "code",
   "execution_count": 544,
   "metadata": {},
   "outputs": [],
   "source": [
    "# fill NaN cells (eg no cancellation) with a 0 then create dummy features.  Isolate REASON_B (weather) to use at\n",
    "# in place of y (prediction vector)\n",
    "y_reason = df3[['CANCELLATION_REASON']].fillna(value=0)\n",
    "y_reason = pd.get_dummies(y_reason['CANCELLATION_REASON'],prefix=\"REASON\")[['REASON_B']]\n",
    "\n",
    "# now add this new column to the original dataframe and drop missing values.  doing it in this order ensures \n",
    "# the rows match up for the features and predictions vectors\n",
    "features = [\"MONTH\",\"DAY_OF_WEEK\",\"AIRLINE\",\"SCHEDULED_DEPARTURE\",\"SCHEDULED_ARRIVAL\",\"DISTANCE\",\n",
    "           \"SCHEDULED_TIME\",\"DEST_LAT\",\"ORIGIN_LAT\",\"DEST_LONG\",\"ORIGIN_LONG\"]\n",
    "df4 = pd.concat([df3[features],y_reason],axis=1)\n",
    "df4 = df4.dropna()\n",
    "# set the predictions vector\n",
    "y = df4[['REASON_B']].as_matrix()\n",
    "c, r = y.shape\n",
    "y = y.reshape(c,)\n",
    "# drop the predictions vector from the features matrix\n",
    "X = df4.drop(['REASON_B'],axis=1)\n",
    "# create dummy features\n",
    "X = pd.concat([X, pd.get_dummies(X['AIRLINE'])], axis=1).drop(['AIRLINE'],axis=1)\n",
    "X = pd.concat([X, pd.get_dummies(X['MONTH'],prefix=\"MONTH\")], axis=1).drop(['MONTH'],axis=1)\n",
    "X = pd.concat([X, pd.get_dummies(X['DAY_OF_WEEK'],prefix=\"DAY\")], axis=1).drop(['DAY_OF_WEEK'],axis=1)\n"
   ]
  },
  {
   "cell_type": "code",
   "execution_count": 541,
   "metadata": {},
   "outputs": [],
   "source": [
    "'''now y tells us whether a flight was cancelled due to weather reasons or not.  everything else is the same.'''\n",
    "X_train, X_test, y_train, y_test = train_test_split(X, y, test_size=0.3, random_state=1)\n",
    "scale_features = ['SCHEDULED_DEPARTURE', 'SCHEDULED_ARRIVAL', 'DISTANCE',\n",
    "        'DEST_LAT', 'ORIGIN_LAT', 'DEST_LONG', 'ORIGIN_LONG']\n",
    "X_train_cat = X_train.drop(scale_features,axis=1).as_matrix()\n",
    "X_test_cat = X_test.drop(scale_features,axis=1).as_matrix()\n",
    "scaler = preprocessing.StandardScaler().fit(X_train[scale_features])\n",
    "X_train_transformed = scaler.transform(X_train[scale_features])\n",
    "X_train_final = np.concatenate((X_train_transformed,X_train_cat),axis=1)\n",
    "clf = LogisticRegression(random_state=1, class_weight=\"balanced\").fit(X_train_final, y_train)\n",
    "X_test_transformed = scaler.transform(X_test[scale_features])\n",
    "X_test_final = np.concatenate((X_test_transformed,X_test_cat),axis=1)\n",
    "predictions = clf.predict(X_test_final)\n"
   ]
  },
  {
   "cell_type": "code",
   "execution_count": 543,
   "metadata": {},
   "outputs": [
    {
     "name": "stdout",
     "output_type": "stream",
     "text": [
      "mean accuracy :  0.72834523401\n",
      "false negative rate :  0.23349023951266787\n",
      "false positive rate :  0.27200277506786025\n",
      "   Features  Coefficient Estimate\n",
      "14       HA             -3.228597\n",
      "20       VX             -3.076096\n",
      "30  MONTH_9             -2.079264\n",
      "28  MONTH_7             -1.456227\n",
      "29  MONTH_8             -1.143230\n",
      "   Features  Coefficient Estimate\n",
      "8        AA              0.844880\n",
      "16       NK              0.900755\n",
      "17       OO              0.968302\n",
      "23  MONTH_2              1.721702\n",
      "15       MQ              1.739513\n"
     ]
    }
   ],
   "source": [
    "print(\"mean accuracy : \",clf.score(X_test_final, y_test) )\n",
    "display_metrics(y_test,predictions)\n",
    "'''Which features are most important in our model? We can check this by looking at the fit coefficents'''\n",
    "coeff_df=pd.DataFrame(X.columns)\n",
    "coeff_df.columns = ['Features']\n",
    "coeff_df['Coefficient Estimate'] = pd.Series(clf.coef_[0])\n",
    "coeff_df = coeff_df.sort_values(by=\"Coefficient Estimate\")\n",
    "print(coeff_df.head())\n",
    "print(coeff_df.tail())"
   ]
  },
  {
   "cell_type": "markdown",
   "metadata": {},
   "source": [
    "## Where to go from here?\n",
    "- Try different algorithm. Instead of using LogisticRegression, try perhaps a decision tree\n",
    "- Feature engineering. Combine features into better features? Find more data with features that can expand upon what we already have, eg, perhaps weather for a given location on a given day?"
   ]
  },
  {
   "cell_type": "code",
   "execution_count": 549,
   "metadata": {},
   "outputs": [
    {
     "data": {
      "text/plain": [
       "Index(['SCHEDULED_DEPARTURE', 'SCHEDULED_ARRIVAL', 'DISTANCE',\n",
       "       'SCHEDULED_TIME', 'ORIGIN_LATITUDE', 'ORIGIN_LONGITUDE',\n",
       "       'DESTINATION_LATITUDE', 'DESTINATION_LONGITUDE', 'REASON_B',\n",
       "       'AIRLINE_AA', 'AIRLINE_AS', 'AIRLINE_B6', 'AIRLINE_DL', 'AIRLINE_EV',\n",
       "       'AIRLINE_F9', 'AIRLINE_HA', 'AIRLINE_MQ', 'AIRLINE_NK', 'AIRLINE_OO',\n",
       "       'AIRLINE_UA', 'AIRLINE_US', 'AIRLINE_VX', 'AIRLINE_WN', 'MONTH_1',\n",
       "       'MONTH_2', 'MONTH_3', 'MONTH_4', 'MONTH_5', 'MONTH_6', 'MONTH_7',\n",
       "       'MONTH_8', 'MONTH_9', 'MONTH_11', 'MONTH_12', 'DAY_OF_WEEK_1',\n",
       "       'DAY_OF_WEEK_2', 'DAY_OF_WEEK_3', 'DAY_OF_WEEK_4', 'DAY_OF_WEEK_5',\n",
       "       'DAY_OF_WEEK_6', 'DAY_OF_WEEK_7'],\n",
       "      dtype='object')"
      ]
     },
     "execution_count": 549,
     "metadata": {},
     "output_type": "execute_result"
    }
   ],
   "source": [
    "processed_df = pd.read_csv(os.path.join(settings.PROCESSED_DIR,\"train.csv\"))\n",
    "processed_df.columns"
   ]
  },
  {
   "cell_type": "code",
   "execution_count": 556,
   "metadata": {},
   "outputs": [
    {
     "data": {
      "text/plain": [
       "Index(['SCHEDULED_DEPARTURE', 'SCHEDULED_ARRIVAL', 'DISTANCE',\n",
       "       'SCHEDULED_TIME', 'ORIGIN_LATITUDE', 'ORIGIN_LONGITUDE',\n",
       "       'DESTINATION_LATITUDE', 'DESTINATION_LONGITUDE', 'REASON_B',\n",
       "       'AIRLINE_AA', 'AIRLINE_AS', 'AIRLINE_B6', 'AIRLINE_DL', 'AIRLINE_EV',\n",
       "       'AIRLINE_F9', 'AIRLINE_HA', 'AIRLINE_MQ', 'AIRLINE_NK', 'AIRLINE_OO',\n",
       "       'AIRLINE_UA', 'AIRLINE_US', 'AIRLINE_VX', 'AIRLINE_WN', 'MONTH_1',\n",
       "       'MONTH_2', 'MONTH_3', 'MONTH_4', 'MONTH_5', 'MONTH_6', 'MONTH_7',\n",
       "       'MONTH_8', 'MONTH_9', 'MONTH_11', 'MONTH_12', 'DAY_OF_WEEK_1',\n",
       "       'DAY_OF_WEEK_2', 'DAY_OF_WEEK_3', 'DAY_OF_WEEK_4', 'DAY_OF_WEEK_5',\n",
       "       'DAY_OF_WEEK_6', 'DAY_OF_WEEK_7'],\n",
       "      dtype='object')"
      ]
     },
     "execution_count": 556,
     "metadata": {},
     "output_type": "execute_result"
    }
   ],
   "source": [
    "processed_df.columns"
   ]
  },
  {
   "cell_type": "code",
   "execution_count": 553,
   "metadata": {},
   "outputs": [
    {
     "ename": "AttributeError",
     "evalue": "module 'settings' has no attribute 'FEATURES'",
     "output_type": "error",
     "traceback": [
      "\u001b[0;31m---------------------------------------------------------------------------\u001b[0m",
      "\u001b[0;31mAttributeError\u001b[0m                            Traceback (most recent call last)",
      "\u001b[0;32m<ipython-input-553-dfae144e4941>\u001b[0m in \u001b[0;36m<module>\u001b[0;34m()\u001b[0m\n\u001b[0;32m----> 1\u001b[0;31m \u001b[0mscale_features\u001b[0m \u001b[0;34m=\u001b[0m \u001b[0msettings\u001b[0m\u001b[0;34m.\u001b[0m\u001b[0mFEATURES\u001b[0m \u001b[0;32mnot\u001b[0m \u001b[0;32min\u001b[0m \u001b[0msettings\u001b[0m\u001b[0;34m.\u001b[0m\u001b[0mdummy_features\u001b[0m\u001b[0;34m\u001b[0m\u001b[0m\n\u001b[0m",
      "\u001b[0;31mAttributeError\u001b[0m: module 'settings' has no attribute 'FEATURES'"
     ]
    }
   ],
   "source": [
    "scale_features = settings.FEATURES not in settings.dummy_features"
   ]
  },
  {
   "cell_type": "code",
   "execution_count": 554,
   "metadata": {
    "collapsed": true
   },
   "outputs": [],
   "source": [
    "import settings\n"
   ]
  },
  {
   "cell_type": "code",
   "execution_count": 563,
   "metadata": {},
   "outputs": [
    {
     "ename": "AttributeError",
     "evalue": "module 'settings' has no attribute 'reason'",
     "output_type": "error",
     "traceback": [
      "\u001b[0;31m---------------------------------------------------------------------------\u001b[0m",
      "\u001b[0;31mAttributeError\u001b[0m                            Traceback (most recent call last)",
      "\u001b[0;32m<ipython-input-563-752559030504>\u001b[0m in \u001b[0;36m<module>\u001b[0;34m()\u001b[0m\n\u001b[0;32m----> 1\u001b[0;31m \u001b[0msettings\u001b[0m\u001b[0;34m.\u001b[0m\u001b[0mreason\u001b[0m\u001b[0;34m\u001b[0m\u001b[0m\n\u001b[0m",
      "\u001b[0;31mAttributeError\u001b[0m: module 'settings' has no attribute 'reason'"
     ]
    }
   ],
   "source": [
    "settings.reason"
   ]
  },
  {
   "cell_type": "code",
   "execution_count": 564,
   "metadata": {},
   "outputs": [
    {
     "data": {
      "text/plain": [
       "'processed'"
      ]
     },
     "execution_count": 564,
     "metadata": {},
     "output_type": "execute_result"
    }
   ],
   "source": [
    "settings.PROCESSED_DIR"
   ]
  },
  {
   "cell_type": "code",
   "execution_count": 565,
   "metadata": {},
   "outputs": [
    {
     "data": {
      "text/plain": [
       "<module 'posixpath' from '/Users/test/anaconda/lib/python3.5/posixpath.py'>"
      ]
     },
     "execution_count": 565,
     "metadata": {},
     "output_type": "execute_result"
    }
   ],
   "source": [
    "os.path"
   ]
  },
  {
   "cell_type": "code",
   "execution_count": 567,
   "metadata": {},
   "outputs": [
    {
     "ename": "AttributeError",
     "evalue": "module 'settings' has no attribute 'PREDICTOR'",
     "output_type": "error",
     "traceback": [
      "\u001b[0;31m---------------------------------------------------------------------------\u001b[0m",
      "\u001b[0;31mAttributeError\u001b[0m                            Traceback (most recent call last)",
      "\u001b[0;32m<ipython-input-567-80ab4c069dcb>\u001b[0m in \u001b[0;36m<module>\u001b[0;34m()\u001b[0m\n\u001b[0;32m----> 1\u001b[0;31m \u001b[0msettings\u001b[0m\u001b[0;34m.\u001b[0m\u001b[0mPREDICTOR\u001b[0m\u001b[0;34m\u001b[0m\u001b[0m\n\u001b[0m",
      "\u001b[0;31mAttributeError\u001b[0m: module 'settings' has no attribute 'PREDICTOR'"
     ]
    }
   ],
   "source": [
    "settings.PREDICTOR"
   ]
  },
  {
   "cell_type": "code",
   "execution_count": 573,
   "metadata": {},
   "outputs": [],
   "source": [
    "c1 = [\"a\",\"b\",\"c\",\"d\",\"e\",\"f\",\"g\"]\n",
    "c2 = [\"a\",\"b\",\"c\"]\n"
   ]
  },
  {
   "cell_type": "code",
   "execution_count": 572,
   "metadata": {},
   "outputs": [
    {
     "ename": "TypeError",
     "evalue": "unsupported operand type(s) for -: 'list' and 'list'",
     "output_type": "error",
     "traceback": [
      "\u001b[0;31m---------------------------------------------------------------------------\u001b[0m",
      "\u001b[0;31mTypeError\u001b[0m                                 Traceback (most recent call last)",
      "\u001b[0;32m<ipython-input-572-e50bb9f89e76>\u001b[0m in \u001b[0;36m<module>\u001b[0;34m()\u001b[0m\n\u001b[0;32m----> 1\u001b[0;31m \u001b[0mlist1\u001b[0m\u001b[0;34m-\u001b[0m\u001b[0mlist2\u001b[0m\u001b[0;34m\u001b[0m\u001b[0m\n\u001b[0m",
      "\u001b[0;31mTypeError\u001b[0m: unsupported operand type(s) for -: 'list' and 'list'"
     ]
    }
   ],
   "source": [
    "list1-list2"
   ]
  },
  {
   "cell_type": "code",
   "execution_count": 576,
   "metadata": {},
   "outputs": [
    {
     "ename": "SyntaxError",
     "evalue": "invalid syntax (<ipython-input-576-c5ddb46b6952>, line 1)",
     "output_type": "error",
     "traceback": [
      "\u001b[0;36m  File \u001b[0;32m\"<ipython-input-576-c5ddb46b6952>\"\u001b[0;36m, line \u001b[0;32m1\u001b[0m\n\u001b[0;31m    c3 = [list(filter(lambda x: x in c1, sublist)) for sublist not in c2]\u001b[0m\n\u001b[0m                                                                 ^\u001b[0m\n\u001b[0;31mSyntaxError\u001b[0m\u001b[0;31m:\u001b[0m invalid syntax\n"
     ]
    }
   ],
   "source": [
    "c3 = [list(filter(lambda x: x in c1, sublist)) for sublist not in c2]\n"
   ]
  },
  {
   "cell_type": "code",
   "execution_count": 579,
   "metadata": {},
   "outputs": [],
   "source": [
    "b1 = [1,2,3,4,5]\n",
    "b2 = [3,4,5,6]\n",
    "s2 = set(b2)\n",
    "b3 = [val for val in b1 if val not in s2]"
   ]
  },
  {
   "cell_type": "code",
   "execution_count": 580,
   "metadata": {},
   "outputs": [
    {
     "data": {
      "text/plain": [
       "[1, 2]"
      ]
     },
     "execution_count": 580,
     "metadata": {},
     "output_type": "execute_result"
    }
   ],
   "source": [
    "b3"
   ]
  },
  {
   "cell_type": "markdown",
   "metadata": {},
   "source": [
    "df3.head()"
   ]
  },
  {
   "cell_type": "code",
   "execution_count": 581,
   "metadata": {},
   "outputs": [
    {
     "data": {
      "text/html": [
       "<div>\n",
       "<table border=\"1\" class=\"dataframe\">\n",
       "  <thead>\n",
       "    <tr style=\"text-align: right;\">\n",
       "      <th></th>\n",
       "      <th>YEAR</th>\n",
       "      <th>MONTH</th>\n",
       "      <th>DAY</th>\n",
       "      <th>DAY_OF_WEEK</th>\n",
       "      <th>AIRLINE</th>\n",
       "      <th>FLIGHT_NUMBER</th>\n",
       "      <th>TAIL_NUMBER</th>\n",
       "      <th>ORIGIN_AIRPORT</th>\n",
       "      <th>DESTINATION_AIRPORT</th>\n",
       "      <th>SCHEDULED_DEPARTURE</th>\n",
       "      <th>...</th>\n",
       "      <th>AIR_SYSTEM_DELAY</th>\n",
       "      <th>SECURITY_DELAY</th>\n",
       "      <th>AIRLINE_DELAY</th>\n",
       "      <th>LATE_AIRCRAFT_DELAY</th>\n",
       "      <th>WEATHER_DELAY</th>\n",
       "      <th>ORIGIN_LAT</th>\n",
       "      <th>ORIGIN_LONG</th>\n",
       "      <th>DEST_LAT</th>\n",
       "      <th>DEST_LONG</th>\n",
       "      <th>bins</th>\n",
       "    </tr>\n",
       "  </thead>\n",
       "  <tbody>\n",
       "    <tr>\n",
       "      <th>0</th>\n",
       "      <td>2015</td>\n",
       "      <td>1</td>\n",
       "      <td>1</td>\n",
       "      <td>4</td>\n",
       "      <td>AS</td>\n",
       "      <td>98</td>\n",
       "      <td>N407AS</td>\n",
       "      <td>ANC</td>\n",
       "      <td>SEA</td>\n",
       "      <td>5</td>\n",
       "      <td>...</td>\n",
       "      <td>NaN</td>\n",
       "      <td>NaN</td>\n",
       "      <td>NaN</td>\n",
       "      <td>NaN</td>\n",
       "      <td>NaN</td>\n",
       "      <td>61.17432</td>\n",
       "      <td>-149.99619</td>\n",
       "      <td>47.44898</td>\n",
       "      <td>-122.30931</td>\n",
       "      <td>(158, 228]</td>\n",
       "    </tr>\n",
       "    <tr>\n",
       "      <th>1</th>\n",
       "      <td>2015</td>\n",
       "      <td>1</td>\n",
       "      <td>1</td>\n",
       "      <td>4</td>\n",
       "      <td>AA</td>\n",
       "      <td>2336</td>\n",
       "      <td>N3KUAA</td>\n",
       "      <td>LAX</td>\n",
       "      <td>PBI</td>\n",
       "      <td>10</td>\n",
       "      <td>...</td>\n",
       "      <td>NaN</td>\n",
       "      <td>NaN</td>\n",
       "      <td>NaN</td>\n",
       "      <td>NaN</td>\n",
       "      <td>NaN</td>\n",
       "      <td>33.94254</td>\n",
       "      <td>-118.40807</td>\n",
       "      <td>26.68316</td>\n",
       "      <td>-80.09559</td>\n",
       "      <td>(228, 298]</td>\n",
       "    </tr>\n",
       "    <tr>\n",
       "      <th>2</th>\n",
       "      <td>2015</td>\n",
       "      <td>1</td>\n",
       "      <td>1</td>\n",
       "      <td>4</td>\n",
       "      <td>US</td>\n",
       "      <td>840</td>\n",
       "      <td>N171US</td>\n",
       "      <td>SFO</td>\n",
       "      <td>CLT</td>\n",
       "      <td>20</td>\n",
       "      <td>...</td>\n",
       "      <td>NaN</td>\n",
       "      <td>NaN</td>\n",
       "      <td>NaN</td>\n",
       "      <td>NaN</td>\n",
       "      <td>NaN</td>\n",
       "      <td>37.61900</td>\n",
       "      <td>-122.37484</td>\n",
       "      <td>35.21401</td>\n",
       "      <td>-80.94313</td>\n",
       "      <td>(228, 298]</td>\n",
       "    </tr>\n",
       "    <tr>\n",
       "      <th>3</th>\n",
       "      <td>2015</td>\n",
       "      <td>1</td>\n",
       "      <td>1</td>\n",
       "      <td>4</td>\n",
       "      <td>AA</td>\n",
       "      <td>258</td>\n",
       "      <td>N3HYAA</td>\n",
       "      <td>LAX</td>\n",
       "      <td>MIA</td>\n",
       "      <td>20</td>\n",
       "      <td>...</td>\n",
       "      <td>NaN</td>\n",
       "      <td>NaN</td>\n",
       "      <td>NaN</td>\n",
       "      <td>NaN</td>\n",
       "      <td>NaN</td>\n",
       "      <td>33.94254</td>\n",
       "      <td>-118.40807</td>\n",
       "      <td>25.79325</td>\n",
       "      <td>-80.29056</td>\n",
       "      <td>(228, 298]</td>\n",
       "    </tr>\n",
       "    <tr>\n",
       "      <th>4</th>\n",
       "      <td>2015</td>\n",
       "      <td>1</td>\n",
       "      <td>1</td>\n",
       "      <td>4</td>\n",
       "      <td>AS</td>\n",
       "      <td>135</td>\n",
       "      <td>N527AS</td>\n",
       "      <td>SEA</td>\n",
       "      <td>ANC</td>\n",
       "      <td>25</td>\n",
       "      <td>...</td>\n",
       "      <td>NaN</td>\n",
       "      <td>NaN</td>\n",
       "      <td>NaN</td>\n",
       "      <td>NaN</td>\n",
       "      <td>NaN</td>\n",
       "      <td>47.44898</td>\n",
       "      <td>-122.30931</td>\n",
       "      <td>61.17432</td>\n",
       "      <td>-149.99619</td>\n",
       "      <td>(228, 298]</td>\n",
       "    </tr>\n",
       "  </tbody>\n",
       "</table>\n",
       "<p>5 rows × 36 columns</p>\n",
       "</div>"
      ],
      "text/plain": [
       "   YEAR  MONTH  DAY  DAY_OF_WEEK AIRLINE  FLIGHT_NUMBER TAIL_NUMBER  \\\n",
       "0  2015      1    1            4      AS             98      N407AS   \n",
       "1  2015      1    1            4      AA           2336      N3KUAA   \n",
       "2  2015      1    1            4      US            840      N171US   \n",
       "3  2015      1    1            4      AA            258      N3HYAA   \n",
       "4  2015      1    1            4      AS            135      N527AS   \n",
       "\n",
       "  ORIGIN_AIRPORT DESTINATION_AIRPORT  SCHEDULED_DEPARTURE     ...      \\\n",
       "0            ANC                 SEA                    5     ...       \n",
       "1            LAX                 PBI                   10     ...       \n",
       "2            SFO                 CLT                   20     ...       \n",
       "3            LAX                 MIA                   20     ...       \n",
       "4            SEA                 ANC                   25     ...       \n",
       "\n",
       "   AIR_SYSTEM_DELAY  SECURITY_DELAY  AIRLINE_DELAY  LATE_AIRCRAFT_DELAY  \\\n",
       "0               NaN             NaN            NaN                  NaN   \n",
       "1               NaN             NaN            NaN                  NaN   \n",
       "2               NaN             NaN            NaN                  NaN   \n",
       "3               NaN             NaN            NaN                  NaN   \n",
       "4               NaN             NaN            NaN                  NaN   \n",
       "\n",
       "   WEATHER_DELAY  ORIGIN_LAT  ORIGIN_LONG  DEST_LAT  DEST_LONG        bins  \n",
       "0            NaN    61.17432   -149.99619  47.44898 -122.30931  (158, 228]  \n",
       "1            NaN    33.94254   -118.40807  26.68316  -80.09559  (228, 298]  \n",
       "2            NaN    37.61900   -122.37484  35.21401  -80.94313  (228, 298]  \n",
       "3            NaN    33.94254   -118.40807  25.79325  -80.29056  (228, 298]  \n",
       "4            NaN    47.44898   -122.30931  61.17432 -149.99619  (228, 298]  \n",
       "\n",
       "[5 rows x 36 columns]"
      ]
     },
     "execution_count": 581,
     "metadata": {},
     "output_type": "execute_result"
    }
   ],
   "source": [
    "df3.head()"
   ]
  },
  {
   "cell_type": "code",
   "execution_count": 591,
   "metadata": {},
   "outputs": [
    {
     "data": {
      "text/plain": [
       "['DAY_OF_WEEK_1',\n",
       " 'DAY_OF_WEEK_2',\n",
       " 'DAY_OF_WEEK_3',\n",
       " 'DAY_OF_WEEK_4',\n",
       " 'DAY_OF_WEEK_5',\n",
       " 'DAY_OF_WEEK_6',\n",
       " 'DAY_OF_WEEK_7']"
      ]
     },
     "execution_count": 591,
     "metadata": {},
     "output_type": "execute_result"
    }
   ],
   "source": [
    "test = df3\n",
    "list(pd.get_dummies(test['DAY_OF_WEEK'],prefix=\"DAY_OF_WEEK\").columns)"
   ]
  },
  {
   "cell_type": "code",
   "execution_count": 585,
   "metadata": {
    "collapsed": true
   },
   "outputs": [],
   "source": [
    "new_dummy_features = [\"A\",\"B\"]"
   ]
  },
  {
   "cell_type": "code",
   "execution_count": 598,
   "metadata": {},
   "outputs": [
    {
     "ename": "NameError",
     "evalue": "name 'iterable' is not defined",
     "output_type": "error",
     "traceback": [
      "\u001b[0;31m---------------------------------------------------------------------------\u001b[0m",
      "\u001b[0;31mNameError\u001b[0m                                 Traceback (most recent call last)",
      "\u001b[0;32m<ipython-input-598-fe993b692a9c>\u001b[0m in \u001b[0;36m<module>\u001b[0;34m()\u001b[0m\n\u001b[0;32m----> 1\u001b[0;31m new_dummy_features.append(iterable(\n\u001b[0m\u001b[1;32m      2\u001b[0m     pd.get_dummies(test['DAY_OF_WEEK'],prefix=\"DAY_OF_WEEK\").columns))\n",
      "\u001b[0;31mNameError\u001b[0m: name 'iterable' is not defined"
     ]
    }
   ],
   "source": [
    "new_dummy_features.append(iterable(\n",
    "    pd.get_dummies(test['DAY_OF_WEEK'],prefix=\"DAY_OF_WEEK\").columns))"
   ]
  },
  {
   "cell_type": "code",
   "execution_count": 597,
   "metadata": {},
   "outputs": [
    {
     "data": {
      "text/plain": [
       "['A',\n",
       " 'B',\n",
       " Index(['DAY_OF_WEEK_1', 'DAY_OF_WEEK_2', 'DAY_OF_WEEK_3', 'DAY_OF_WEEK_4',\n",
       "        'DAY_OF_WEEK_5', 'DAY_OF_WEEK_6', 'DAY_OF_WEEK_7'],\n",
       "       dtype='object'),\n",
       " ['DAY_OF_WEEK_1',\n",
       "  'DAY_OF_WEEK_2',\n",
       "  'DAY_OF_WEEK_3',\n",
       "  'DAY_OF_WEEK_4',\n",
       "  'DAY_OF_WEEK_5',\n",
       "  'DAY_OF_WEEK_6',\n",
       "  'DAY_OF_WEEK_7'],\n",
       " ['DAY_OF_WEEK_1',\n",
       "  'DAY_OF_WEEK_2',\n",
       "  'DAY_OF_WEEK_3',\n",
       "  'DAY_OF_WEEK_4',\n",
       "  'DAY_OF_WEEK_5',\n",
       "  'DAY_OF_WEEK_6',\n",
       "  'DAY_OF_WEEK_7']]"
      ]
     },
     "execution_count": 597,
     "metadata": {},
     "output_type": "execute_result"
    }
   ],
   "source": [
    "new_dummy_features"
   ]
  },
  {
   "cell_type": "code",
   "execution_count": 603,
   "metadata": {
    "collapsed": true
   },
   "outputs": [],
   "source": [
    "new = [\"A\",\"B\"]\n",
    "new_dummy = pd.get_dummies(test['DAY_OF_WEEK'],prefix=\"DAY_OF_WEEK\")\n",
    "new_columns = list(new_dummy.columns)\n",
    "new.append(new_columns)"
   ]
  },
  {
   "cell_type": "code",
   "execution_count": 605,
   "metadata": {},
   "outputs": [],
   "source": [
    "new.append([\"and\",\"also\",\"this\"])"
   ]
  },
  {
   "cell_type": "code",
   "execution_count": 606,
   "metadata": {
    "collapsed": true
   },
   "outputs": [],
   "source": [
    "new = [item for sublist in new for item in sublist]"
   ]
  },
  {
   "cell_type": "code",
   "execution_count": 607,
   "metadata": {},
   "outputs": [
    {
     "data": {
      "text/plain": [
       "['A',\n",
       " 'B',\n",
       " 'DAY_OF_WEEK_1',\n",
       " 'DAY_OF_WEEK_2',\n",
       " 'DAY_OF_WEEK_3',\n",
       " 'DAY_OF_WEEK_4',\n",
       " 'DAY_OF_WEEK_5',\n",
       " 'DAY_OF_WEEK_6',\n",
       " 'DAY_OF_WEEK_7',\n",
       " 'and',\n",
       " 'also',\n",
       " 'this']"
      ]
     },
     "execution_count": 607,
     "metadata": {},
     "output_type": "execute_result"
    }
   ],
   "source": [
    "new"
   ]
  },
  {
   "cell_type": "code",
   "execution_count": 618,
   "metadata": {},
   "outputs": [],
   "source": [
    "alist=[\"a\",\"b\",\"c\"]\n",
    "with open(os.path.join(settings.PROCESSED_DIR, \"example.csv\"), \"w\") as fh:\n",
    "    for item in alist:\n",
    "        fh.write(\"%s,\" % item)"
   ]
  },
  {
   "cell_type": "code",
   "execution_count": 626,
   "metadata": {},
   "outputs": [],
   "source": [
    "with open(os.path.join(settings.PROCESSED_DIR, \"new_settings.txt\"), \"r\") as f:\n",
    "    lines = f.read().splitlines() "
   ]
  },
  {
   "cell_type": "code",
   "execution_count": 627,
   "metadata": {},
   "outputs": [
    {
     "data": {
      "text/plain": [
       "['AIRLINE_AA',\n",
       " 'AIRLINE_AS',\n",
       " 'AIRLINE_B6',\n",
       " 'AIRLINE_DL',\n",
       " 'AIRLINE_EV',\n",
       " 'AIRLINE_F9',\n",
       " 'AIRLINE_HA',\n",
       " 'AIRLINE_MQ',\n",
       " 'AIRLINE_NK',\n",
       " 'AIRLINE_OO',\n",
       " 'AIRLINE_UA',\n",
       " 'AIRLINE_US',\n",
       " 'AIRLINE_VX',\n",
       " 'AIRLINE_WN',\n",
       " 'MONTH_1',\n",
       " 'MONTH_2',\n",
       " 'MONTH_3',\n",
       " 'MONTH_4',\n",
       " 'MONTH_5',\n",
       " 'MONTH_6',\n",
       " 'MONTH_7',\n",
       " 'MONTH_8',\n",
       " 'MONTH_9',\n",
       " 'MONTH_11',\n",
       " 'MONTH_12',\n",
       " 'DAY_OF_WEEK_1',\n",
       " 'DAY_OF_WEEK_2',\n",
       " 'DAY_OF_WEEK_3',\n",
       " 'DAY_OF_WEEK_4',\n",
       " 'DAY_OF_WEEK_5',\n",
       " 'DAY_OF_WEEK_6',\n",
       " 'DAY_OF_WEEK_7']"
      ]
     },
     "execution_count": 627,
     "metadata": {},
     "output_type": "execute_result"
    }
   ],
   "source": [
    "lines"
   ]
  },
  {
   "cell_type": "code",
   "execution_count": null,
   "metadata": {
    "collapsed": true
   },
   "outputs": [],
   "source": [
    "with open('C:/path/numbers.txt') as f:\n",
    "    lines = f.read().splitlines()"
   ]
  }
 ],
 "metadata": {
  "kernelspec": {
   "display_name": "Python 3",
   "language": "python",
   "name": "python3"
  },
  "language_info": {
   "codemirror_mode": {
    "name": "ipython",
    "version": 3
   },
   "file_extension": ".py",
   "mimetype": "text/x-python",
   "name": "python",
   "nbconvert_exporter": "python",
   "pygments_lexer": "ipython3",
   "version": "3.5.2"
  }
 },
 "nbformat": 4,
 "nbformat_minor": 2
}
